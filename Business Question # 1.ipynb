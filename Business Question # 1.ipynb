{
 "cells": [
  {
   "cell_type": "code",
   "execution_count": 1,
   "metadata": {},
   "outputs": [],
   "source": [
    "import pandas as pd\n",
    "import matplotlib.pyplot as plt\n",
    "import numpy as np\n",
    "from mlxtend.preprocessing import TransactionEncoder\n",
    "from mlxtend.frequent_patterns import apriori, association_rules"
   ]
  },
  {
   "cell_type": "code",
   "execution_count": 2,
   "metadata": {},
   "outputs": [],
   "source": [
    "df=pd.read_excel('processed_data.xlsx')"
   ]
  },
  {
   "cell_type": "code",
   "execution_count": 3,
   "metadata": {},
   "outputs": [
    {
     "name": "stdout",
     "output_type": "stream",
     "text": [
      "IncidentNumber                                   object\n",
      "DateOfCall                               datetime64[ns]\n",
      "CalYear                                           int64\n",
      "TimeOfCall                                       object\n",
      "HourOfCall                                        int64\n",
      "IncidentGroup                                  category\n",
      "StopCodeDescription                            category\n",
      "PropertyCategory                               category\n",
      "PropertyType                                   category\n",
      "Postcode_district                              category\n",
      "IncGeo_WardName                                category\n",
      "Easting_rounded                                   int64\n",
      "Northing_rounded                                  int64\n",
      "IncidentStationGround                          category\n",
      "FirstPumpArriving_AttendanceTime                float64\n",
      "FirstPumpArriving_DeployedFromStation          category\n",
      "NumStationsWithPumpsAttending                   float64\n",
      "NumPumpsAttending                               float64\n",
      "PumpCount                                         int64\n",
      "PumpHoursRoundUp                                  int64\n",
      "Notional Cost (£)                                 int64\n",
      "NumCalls                                          int64\n",
      "dtype: object\n"
     ]
    }
   ],
   "source": [
    "# Convert DateOfCall to datetime\n",
    "df['DateOfCall'] = pd.to_datetime(df['DateOfCall'], format='%d %b %Y')\n",
    "\n",
    "# Convert TimeOfCall to datetime.time\n",
    "df['TimeOfCall'] = pd.to_datetime(df['TimeOfCall']).dt.time\n",
    "\n",
    "# Convert columns to category data type\n",
    "df['IncidentGroup'] = df['IncidentGroup'].astype('category')\n",
    "df['StopCodeDescription'] = df['StopCodeDescription'].astype('category')\n",
    "df['PropertyCategory'] = df['PropertyCategory'].astype('category')\n",
    "df['PropertyType'] = df['PropertyType'].astype('category')\n",
    "df['Postcode_district'] = df['Postcode_district'].astype('category')\n",
    "df['IncGeo_WardName'] = df['IncGeo_WardName'].astype('category')\n",
    "df['IncidentStationGround'] = df['IncidentStationGround'].astype('category')\n",
    "df['FirstPumpArriving_DeployedFromStation'] = df['FirstPumpArriving_DeployedFromStation'].astype('category')\n",
    "\n",
    "# Print data types\n",
    "print(df.dtypes)"
   ]
  },
  {
   "cell_type": "markdown",
   "metadata": {},
   "source": [
    "# Main code starts from here (Association Analysis)\n"
   ]
  },
  {
   "cell_type": "code",
   "execution_count": 13,
   "metadata": {},
   "outputs": [
    {
     "name": "stderr",
     "output_type": "stream",
     "text": [
      "C:\\ProgramData\\Anaconda3\\lib\\site-packages\\ipykernel_launcher.py:3: SettingWithCopyWarning: \n",
      "A value is trying to be set on a copy of a slice from a DataFrame.\n",
      "Try using .loc[row_indexer,col_indexer] = value instead\n",
      "\n",
      "See the caveats in the documentation: https://pandas.pydata.org/pandas-docs/stable/user_guide/indexing.html#returning-a-view-versus-a-copy\n",
      "  This is separate from the ipykernel package so we can avoid doing imports until\n",
      "C:\\ProgramData\\Anaconda3\\lib\\site-packages\\mlxtend\\frequent_patterns\\fpcommon.py:114: DeprecationWarning: DataFrames with non-bool types result in worse computationalperformance and their support might be discontinued in the future.Please use a DataFrame with bool type\n",
      "  DeprecationWarning,\n"
     ]
    }
   ],
   "source": [
    "subset = df[['IncidentGroup', 'StopCodeDescription', 'Postcode_district', 'HourOfCall']]\n",
    "# Convert 'HourOfCall' to categorical variable\n",
    "subset['HourCategory'] = pd.cut(subset['HourOfCall'], bins=[-1, 6, 12, 18, 23], labels=['Night', 'Morning', 'Afternoon', 'Evening'])\n",
    "# Drop the 'HourOfCall' column\n",
    "subset = subset.drop('HourOfCall', axis=1)\n",
    "fire_secondary = subset[(subset['IncidentGroup'] == 'Fire') & (subset['StopCodeDescription'] == 'Secondary Fire')]\n",
    "fire_secondary = fire_secondary.drop('IncidentGroup', axis=1)\n",
    "fire_secondary = fire_secondary.drop('StopCodeDescription', axis=1)\n",
    "new_list = []\n",
    "for index, row in subset.iterrows():\n",
    "    new_list.append([row['Postcode_district'], row['HourCategory']])\n",
    "#Let's transform the list, with one-hot encoding\n",
    "from mlxtend.preprocessing import TransactionEncoder\n",
    "a = TransactionEncoder()\n",
    "a_data = a.fit(new_list).transform(new_list)\n",
    "dff = pd.DataFrame(a_data,columns=a.columns_)\n",
    "dff = dff.replace(False,0)\n",
    "# Find frequent itemsets using Apriori algorithm\n",
    "frequent_itemsets = apriori(dff, min_support=0.05, use_colnames=True)\n",
    "\n",
    "# Generate association rules\n",
    "rules = association_rules(frequent_itemsets, metric=\"lift\", min_threshold=1)\n",
    "\n",
    "# Print top 5 rules by lift\n",
    "#print(rules.nlargest(5, \"confidence\"))"
   ]
  },
  {
   "cell_type": "code",
   "execution_count": 14,
   "metadata": {},
   "outputs": [
    {
     "name": "stdout",
     "output_type": "stream",
     "text": [
      "KT3->Afternoon: sup=0.17, conf=0.36, lift=1.07, supp=0.06, zhang=0.08; \n",
      "KT2->Afternoon: sup=0.21, conf=0.34, lift=1.0, supp=0.07, zhang=0.0; \n",
      "KT1->Afternoon: sup=0.22, conf=0.34, lift=1.0, supp=0.08, zhang=0.0; \n",
      "KT2->Morning: sup=0.21, conf=0.31, lift=1.09, supp=0.07, zhang=0.11; \n",
      "KT6->Morning: sup=0.17, conf=0.3, lift=1.05, supp=0.05, zhang=0.06\n"
     ]
    }
   ],
   "source": [
    "# Define a function to format each rule as a string\n",
    "def format_rule(row):\n",
    "    antecedents = \", \".join([str(x) for x in row[\"antecedents\"]])\n",
    "    consequents = \", \".join([str(x) for x in row[\"consequents\"]])\n",
    "    sup = round(row[\"antecedent support\"], 2)\n",
    "    conf = round(row[\"confidence\"], 2)\n",
    "    lift = round(row[\"lift\"], 2)\n",
    "    supp = round(row[\"support\"], 2)\n",
    "    zhang = round(row[\"zhangs_metric\"], 2)\n",
    "    return f\"{antecedents}->{consequents}: sup={sup}, conf={conf}, lift={lift}, supp={supp}, zhang={zhang}\"\n",
    "\n",
    "# Format each rule as a string and join them together with a separator\n",
    "result = \"; \\n\".join(rules.nlargest(5, \"confidence\").apply(format_rule, axis=1))\n",
    "\n",
    "# Print the formatted rules\n",
    "print(result)"
   ]
  },
  {
   "cell_type": "code",
   "execution_count": null,
   "metadata": {},
   "outputs": [],
   "source": []
  }
 ],
 "metadata": {
  "kernelspec": {
   "display_name": "Python 3 (ipykernel)",
   "language": "python",
   "name": "python3"
  },
  "language_info": {
   "codemirror_mode": {
    "name": "ipython",
    "version": 3
   },
   "file_extension": ".py",
   "mimetype": "text/x-python",
   "name": "python",
   "nbconvert_exporter": "python",
   "pygments_lexer": "ipython3",
   "version": "3.11.5"
  }
 },
 "nbformat": 4,
 "nbformat_minor": 4
}
