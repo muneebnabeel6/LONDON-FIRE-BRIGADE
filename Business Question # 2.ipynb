{
 "cells": [
  {
   "cell_type": "code",
   "execution_count": null,
   "metadata": {},
   "outputs": [],
   "source": [
    "import pandas as pd\n",
    "import matplotlib.pyplot as plt\n",
    "import numpy as np\n",
    "from mlxtend.preprocessing import TransactionEncoder\n",
    "from mlxtend.frequent_patterns import apriori, association_rules"
   ]
  },
  {
   "cell_type": "code",
   "execution_count": 2,
   "metadata": {},
   "outputs": [],
   "source": [
    "df=pd.read_excel('processed_data.xlsx')"
   ]
  },
  {
   "cell_type": "markdown",
   "metadata": {},
   "source": [
    "# What patterns can be observed in the occurrence of false alarms in the London Fire Brigade in relation to the time of day?"
   ]
  },
  {
   "cell_type": "code",
   "execution_count": 3,
   "metadata": {},
   "outputs": [
    {
     "name": "stdout",
     "output_type": "stream",
     "text": [
      "IncidentNumber                                   object\n",
      "DateOfCall                               datetime64[ns]\n",
      "CalYear                                           int64\n",
      "TimeOfCall                                       object\n",
      "HourOfCall                                        int64\n",
      "IncidentGroup                                  category\n",
      "StopCodeDescription                            category\n",
      "PropertyCategory                               category\n",
      "PropertyType                                   category\n",
      "Postcode_district                              category\n",
      "IncGeo_WardName                                category\n",
      "Easting_rounded                                   int64\n",
      "Northing_rounded                                  int64\n",
      "IncidentStationGround                          category\n",
      "FirstPumpArriving_AttendanceTime                float64\n",
      "FirstPumpArriving_DeployedFromStation          category\n",
      "NumStationsWithPumpsAttending                   float64\n",
      "NumPumpsAttending                               float64\n",
      "PumpCount                                         int64\n",
      "PumpHoursRoundUp                                  int64\n",
      "Notional Cost (£)                                 int64\n",
      "NumCalls                                          int64\n",
      "dtype: object\n"
     ]
    }
   ],
   "source": [
    "# Convert DateOfCall to datetime\n",
    "df['DateOfCall'] = pd.to_datetime(df['DateOfCall'], format='%d %b %Y')\n",
    "\n",
    "# Convert TimeOfCall to datetime.time\n",
    "df['TimeOfCall'] = pd.to_datetime(df['TimeOfCall']).dt.time\n",
    "\n",
    "# Convert columns to category data type\n",
    "df['IncidentGroup'] = df['IncidentGroup'].astype('category')\n",
    "df['StopCodeDescription'] = df['StopCodeDescription'].astype('category')\n",
    "df['PropertyCategory'] = df['PropertyCategory'].astype('category')\n",
    "df['PropertyType'] = df['PropertyType'].astype('category')\n",
    "df['Postcode_district'] = df['Postcode_district'].astype('category')\n",
    "df['IncGeo_WardName'] = df['IncGeo_WardName'].astype('category')\n",
    "df['IncidentStationGround'] = df['IncidentStationGround'].astype('category')\n",
    "df['FirstPumpArriving_DeployedFromStation'] = df['FirstPumpArriving_DeployedFromStation'].astype('category')\n",
    "\n",
    "# Print data types\n",
    "print(df.dtypes)"
   ]
  },
  {
   "cell_type": "code",
   "execution_count": null,
   "metadata": {},
   "outputs": [],
   "source": []
  },
  {
   "cell_type": "code",
   "execution_count": 4,
   "metadata": {},
   "outputs": [],
   "source": [
    "from sklearn.preprocessing import MinMaxScaler\n",
    "\n",
    "# Create a MinMaxScaler object\n",
    "scaler = MinMaxScaler()\n"
   ]
  },
  {
   "cell_type": "code",
   "execution_count": 5,
   "metadata": {},
   "outputs": [],
   "source": [
    "#df['HourOfCall'] = scaler.fit_transform(df[['HourOfCall']])"
   ]
  },
  {
   "cell_type": "code",
   "execution_count": null,
   "metadata": {},
   "outputs": [],
   "source": []
  },
  {
   "cell_type": "code",
   "execution_count": 11,
   "metadata": {},
   "outputs": [],
   "source": [
    "import pandas as pd\n",
    "import numpy as np\n",
    "import matplotlib.pyplot as plt\n",
    "from sklearn.cluster import KMeans\n",
    "from sklearn.preprocessing import MinMaxScaler\n",
    "\n",
    "# Filter the data to only include false alarms\n",
    "false_alarms = df[df['IncidentGroup'] == 'False Alarm']\n",
    "\n",
    "# Group the data by hour of the day and calculate the number of false alarms for each hour\n",
    "hourly_counts = false_alarms.groupby('HourOfCall')['IncidentNumber'].count()\n",
    "\n",
    "# Normalize the counts using min-max scaler\n",
    "scaler = MinMaxScaler()\n",
    "hourly_counts_normalized = scaler.fit_transform(hourly_counts.values.reshape(-1, 1))\n",
    "\n",
    "\n"
   ]
  },
  {
   "cell_type": "code",
   "execution_count": 8,
   "metadata": {},
   "outputs": [],
   "source": [
    "#normalized the count because to make the graph accurate"
   ]
  },
  {
   "cell_type": "code",
   "execution_count": 12,
   "metadata": {},
   "outputs": [
    {
     "name": "stderr",
     "output_type": "stream",
     "text": [
      "C:\\ProgramData\\Anaconda3\\lib\\site-packages\\sklearn\\cluster\\_kmeans.py:1037: UserWarning: KMeans is known to have a memory leak on Windows with MKL, when there are less chunks than available threads. You can avoid it by setting the environment variable OMP_NUM_THREADS=1.\n",
      "  \"KMeans is known to have a memory leak on Windows \"\n"
     ]
    },
    {
     "data": {
      "image/png": "[encoded data removed]",
      "text/plain": [
       "<Figure size 432x288 with 1 Axes>"
      ]
     },
     "metadata": {
      "needs_background": "light"
     },
     "output_type": "display_data"
    }
   ],
   "source": [
    "# Apply k-means clustering to group incidents with similar patterns of false alarms\n",
    "wcss = []\n",
    "for i in range(1, 11):\n",
    "    kmeans = KMeans(n_clusters=i, init='k-means++', max_iter=300, n_init=10, random_state=0)\n",
    "    kmeans.fit(hourly_counts_normalized)\n",
    "    wcss.append(kmeans.inertia_)\n",
    "    \n",
    "plt.plot(range(1, 11), wcss)\n",
    "plt.title('Elbow Method')\n",
    "plt.xlabel('Number of clusters')\n",
    "plt.ylabel('WCSS')\n",
    "plt.show()"
   ]
  },
  {
   "cell_type": "code",
   "execution_count": 15,
   "metadata": {},
   "outputs": [
    {
     "data": {
      "image/png": "[encoded data removed]",
      "text/plain": [
       "<Figure size 432x288 with 1 Axes>"
      ]
     },
     "metadata": {
      "needs_background": "light"
     },
     "output_type": "display_data"
    }
   ],
   "source": [
    "# From the elbow plot, we can see that the optimal number of clusters is 2.\n",
    "kmeans = KMeans(n_clusters=2)\n",
    "kmeans.fit(hourly_counts_normalized)\n",
    "\n",
    "# Plot the clusters\n",
    "plt.scatter(hourly_counts.index, hourly_counts_normalized, c=kmeans.labels_)\n",
    "plt.xlabel('Hour of the day')\n",
    "plt.ylabel('Number of false alarms')\n",
    "plt.show()"
   ]
  },
  {
   "cell_type": "markdown",
   "metadata": {},
   "source": [
    "# How resouces are wasted to deal with false alarm?"
   ]
  },
  {
   "cell_type": "code",
   "execution_count": 24,
   "metadata": {},
   "outputs": [
    {
     "data": {
      "image/png": "[encoded data removed]",
      "text/plain": [
       "<Figure size 432x288 with 2 Axes>"
      ]
     },
     "metadata": {
      "needs_background": "light"
     },
     "output_type": "display_data"
    }
   ],
   "source": [
    "import pandas as pd\n",
    "import seaborn as sns\n",
    "import matplotlib.pyplot as plt\n",
    "\n",
    "\n",
    "# Group the data by the incident group and pump count, and sum the cost\n",
    "cost_by_group_and_pump_count = df.groupby([\"IncidentGroup\", \"PumpCount\"])[\"Notional Cost (£)\"].sum().reset_index()\n",
    "\n",
    "# Pivot the table to get a matrix of costs by incident group and pump count\n",
    "cost_matrix = cost_by_group_and_pump_count.pivot(\"IncidentGroup\", \"PumpCount\", \"Notional Cost (£)\")\n",
    "\n",
    "# Fill missing values with 0\n",
    "cost_matrix = cost_matrix.fillna(0)\n",
    "\n",
    "# Create a heatmap of the cost matrix\n",
    "sns.heatmap(cost_matrix, cmap=\"YlGnBu\", annot=True, fmt=\".0f\", cbar_kws={\"label\": \"Total Cost (£)\"})\n",
    "\n",
    "# Add axis labels and title\n",
    "plt.xlabel(\"PumpCount\")\n",
    "plt.ylabel(\"Incident Group\")\n",
    "plt.title(\"Cost of Incidents by Incident Group and Pump Count\")\n",
    "\n",
    "plt.show()\n"
   ]
  },
  {
   "cell_type": "code",
   "execution_count": null,
   "metadata": {},
   "outputs": [],
   "source": []
  }
 ],
 "metadata": {
  "kernelspec": {
   "display_name": "Python 3",
   "language": "python",
   "name": "python3"
  },
  "language_info": {
   "codemirror_mode": {
    "name": "ipython",
    "version": 3
   },
   "file_extension": ".py",
   "mimetype": "text/x-python",
   "name": "python",
   "nbconvert_exporter": "python",
   "pygments_lexer": "ipython3",
   "version": "3.7.7"
  }
 },
 "nbformat": 4,
 "nbformat_minor": 4
}
