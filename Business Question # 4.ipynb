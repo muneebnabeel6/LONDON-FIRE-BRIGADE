{
 "cells": [
  {
   "cell_type": "raw",
   "metadata": {},
   "source": [
    "Question 4:\n",
    "\n",
    "Can we identify any wards in London where the response time of the second pump station has a significant impact on the cost of incidents that require multiple pump stations?"
   ]
  },
  {
   "cell_type": "code",
   "execution_count": 1,
   "metadata": {},
   "outputs": [],
   "source": [
    "import pandas as pd\n",
    "import numpy as np\n",
    "import matplotlib.pyplot as plt\n",
    "import seaborn as sns"
   ]
  },
  {
   "cell_type": "code",
   "execution_count": 2,
   "metadata": {},
   "outputs": [],
   "source": [
    "df=pd.read_excel('processed_data.xlsx')"
   ]
  },
  {
   "cell_type": "code",
   "execution_count": 3,
   "metadata": {},
   "outputs": [],
   "source": [
    "df2=pd.read_excel('second_pump.xlsx')"
   ]
  },
  {
   "cell_type": "code",
   "execution_count": 4,
   "metadata": {},
   "outputs": [
    {
     "name": "stdout",
     "output_type": "stream",
     "text": [
      "IncidentNumber                                   object\n",
      "DateOfCall                               datetime64[ns]\n",
      "CalYear                                           int64\n",
      "TimeOfCall                                       object\n",
      "HourOfCall                                        int64\n",
      "IncidentGroup                                  category\n",
      "StopCodeDescription                            category\n",
      "PropertyCategory                               category\n",
      "PropertyType                                   category\n",
      "Postcode_district                              category\n",
      "IncGeo_WardName                                category\n",
      "Easting_rounded                                   int64\n",
      "Northing_rounded                                  int64\n",
      "IncidentStationGround                          category\n",
      "FirstPumpArriving_AttendanceTime                float64\n",
      "FirstPumpArriving_DeployedFromStation          category\n",
      "NumStationsWithPumpsAttending                   float64\n",
      "NumPumpsAttending                               float64\n",
      "PumpCount                                         int64\n",
      "PumpHoursRoundUp                                  int64\n",
      "Notional Cost (£)                                 int64\n",
      "NumCalls                                          int64\n",
      "dtype: object\n"
     ]
    }
   ],
   "source": [
    "# Convert DateOfCall to datetime\n",
    "df['DateOfCall'] = pd.to_datetime(df['DateOfCall'], format='%d %b %Y')\n",
    "\n",
    "# Convert TimeOfCall to datetime.time\n",
    "df['TimeOfCall'] = pd.to_datetime(df['TimeOfCall']).dt.time\n",
    "\n",
    "# Convert columns to category data type\n",
    "df['IncidentGroup'] = df['IncidentGroup'].astype('category')\n",
    "df['StopCodeDescription'] = df['StopCodeDescription'].astype('category')\n",
    "df['PropertyCategory'] = df['PropertyCategory'].astype('category')\n",
    "df['PropertyType'] = df['PropertyType'].astype('category')\n",
    "df['Postcode_district'] = df['Postcode_district'].astype('category')\n",
    "df['IncGeo_WardName'] = df['IncGeo_WardName'].astype('category')\n",
    "df['IncidentStationGround'] = df['IncidentStationGround'].astype('category')\n",
    "df['FirstPumpArriving_DeployedFromStation'] = df['FirstPumpArriving_DeployedFromStation'].astype('category')\n",
    "\n",
    "# Print data types\n",
    "print(df.dtypes)"
   ]
  },
  {
   "cell_type": "code",
   "execution_count": 5,
   "metadata": {},
   "outputs": [],
   "source": [
    "df2['SecondPumpArriving_DeployedFromStation'] = df2['SecondPumpArriving_DeployedFromStation'].astype('category')\n"
   ]
  },
  {
   "cell_type": "code",
   "execution_count": 6,
   "metadata": {},
   "outputs": [],
   "source": [
    "# set display option to show all columns\n",
    "pd.set_option('display.max_columns', None)"
   ]
  },
  {
   "cell_type": "code",
   "execution_count": 7,
   "metadata": {},
   "outputs": [
    {
     "data": {
      "text/plain": [
       "Index(['IncidentNumber', 'DateOfCall', 'CalYear', 'TimeOfCall', 'HourOfCall',\n",
       "       'IncidentGroup', 'StopCodeDescription', 'PropertyCategory',\n",
       "       'PropertyType', 'Postcode_district', 'IncGeo_WardName',\n",
       "       'Easting_rounded', 'Northing_rounded', 'IncidentStationGround',\n",
       "       'FirstPumpArriving_AttendanceTime',\n",
       "       'FirstPumpArriving_DeployedFromStation',\n",
       "       'NumStationsWithPumpsAttending', 'NumPumpsAttending', 'PumpCount',\n",
       "       'PumpHoursRoundUp', 'Notional Cost (£)', 'NumCalls'],\n",
       "      dtype='object')"
      ]
     },
     "execution_count": 7,
     "metadata": {},
     "output_type": "execute_result"
    }
   ],
   "source": [
    "df.columns"
   ]
  },
  {
   "cell_type": "code",
   "execution_count": 8,
   "metadata": {},
   "outputs": [
    {
     "name": "stdout",
     "output_type": "stream",
     "text": [
      "38\n"
     ]
    }
   ],
   "source": [
    "print(df.IncGeo_WardName.nunique())"
   ]
  },
  {
   "cell_type": "code",
   "execution_count": 9,
   "metadata": {},
   "outputs": [
    {
     "data": {
      "text/html": [
       "<div>\n",
       "<style scoped>\n",
       "    .dataframe tbody tr th:only-of-type {\n",
       "        vertical-align: middle;\n",
       "    }\n",
       "\n",
       "    .dataframe tbody tr th {\n",
       "        vertical-align: top;\n",
       "    }\n",
       "\n",
       "    .dataframe thead th {\n",
       "        text-align: right;\n",
       "    }\n",
       "</style>\n",
       "<table border=\"1\" class=\"dataframe\">\n",
       "  <thead>\n",
       "    <tr style=\"text-align: right;\">\n",
       "      <th></th>\n",
       "      <th>IncidentNumber</th>\n",
       "      <th>DateOfCall</th>\n",
       "      <th>CalYear</th>\n",
       "      <th>TimeOfCall</th>\n",
       "      <th>HourOfCall</th>\n",
       "      <th>IncidentGroup</th>\n",
       "      <th>StopCodeDescription</th>\n",
       "      <th>PropertyCategory</th>\n",
       "      <th>PropertyType</th>\n",
       "      <th>Postcode_district</th>\n",
       "      <th>IncGeo_WardName</th>\n",
       "      <th>Easting_rounded</th>\n",
       "      <th>Northing_rounded</th>\n",
       "      <th>IncidentStationGround</th>\n",
       "      <th>FirstPumpArriving_AttendanceTime</th>\n",
       "      <th>FirstPumpArriving_DeployedFromStation</th>\n",
       "      <th>NumStationsWithPumpsAttending</th>\n",
       "      <th>NumPumpsAttending</th>\n",
       "      <th>PumpCount</th>\n",
       "      <th>PumpHoursRoundUp</th>\n",
       "      <th>Notional Cost (£)</th>\n",
       "      <th>NumCalls</th>\n",
       "    </tr>\n",
       "  </thead>\n",
       "  <tbody>\n",
       "    <tr>\n",
       "      <th>0</th>\n",
       "      <td>000144-01012019</td>\n",
       "      <td>2019-01-01</td>\n",
       "      <td>2019</td>\n",
       "      <td>00:46:36</td>\n",
       "      <td>0</td>\n",
       "      <td>Fire</td>\n",
       "      <td>Secondary Fire</td>\n",
       "      <td>Outdoor Structure</td>\n",
       "      <td>Small refuse/rubbish container</td>\n",
       "      <td>KT9</td>\n",
       "      <td>Hook &amp; Chessington North</td>\n",
       "      <td>518750</td>\n",
       "      <td>164450</td>\n",
       "      <td>Surbiton</td>\n",
       "      <td>326.598483</td>\n",
       "      <td>Surbiton</td>\n",
       "      <td>1.0</td>\n",
       "      <td>1.0</td>\n",
       "      <td>1</td>\n",
       "      <td>1</td>\n",
       "      <td>333</td>\n",
       "      <td>1</td>\n",
       "    </tr>\n",
       "    <tr>\n",
       "      <th>1</th>\n",
       "      <td>000152-01012019</td>\n",
       "      <td>2019-01-01</td>\n",
       "      <td>2019</td>\n",
       "      <td>00:51:00</td>\n",
       "      <td>0</td>\n",
       "      <td>Fire</td>\n",
       "      <td>Secondary Fire</td>\n",
       "      <td>Outdoor Structure</td>\n",
       "      <td>Common external bin storage area</td>\n",
       "      <td>KT3</td>\n",
       "      <td>New Malden Village</td>\n",
       "      <td>521150</td>\n",
       "      <td>168150</td>\n",
       "      <td>New Malden</td>\n",
       "      <td>449.000000</td>\n",
       "      <td>Richmond</td>\n",
       "      <td>2.0</td>\n",
       "      <td>2.0</td>\n",
       "      <td>2</td>\n",
       "      <td>1</td>\n",
       "      <td>333</td>\n",
       "      <td>1</td>\n",
       "    </tr>\n",
       "    <tr>\n",
       "      <th>2</th>\n",
       "      <td>000304-01012019</td>\n",
       "      <td>2019-01-01</td>\n",
       "      <td>2019</td>\n",
       "      <td>03:13:01</td>\n",
       "      <td>3</td>\n",
       "      <td>False Alarm</td>\n",
       "      <td>False alarm - Good intent</td>\n",
       "      <td>Non Residential</td>\n",
       "      <td>Other car park structure</td>\n",
       "      <td>KT5</td>\n",
       "      <td>King George's &amp; Sunray</td>\n",
       "      <td>519750</td>\n",
       "      <td>165750</td>\n",
       "      <td>Surbiton</td>\n",
       "      <td>182.000000</td>\n",
       "      <td>New Malden</td>\n",
       "      <td>2.0</td>\n",
       "      <td>2.0</td>\n",
       "      <td>2</td>\n",
       "      <td>1</td>\n",
       "      <td>333</td>\n",
       "      <td>1</td>\n",
       "    </tr>\n",
       "    <tr>\n",
       "      <th>3</th>\n",
       "      <td>000454-01012019</td>\n",
       "      <td>2019-01-01</td>\n",
       "      <td>2019</td>\n",
       "      <td>13:42:47</td>\n",
       "      <td>13</td>\n",
       "      <td>False Alarm</td>\n",
       "      <td>AFA</td>\n",
       "      <td>Other Residential</td>\n",
       "      <td>Student Hall of Residence</td>\n",
       "      <td>KT1</td>\n",
       "      <td>Norbiton</td>\n",
       "      <td>519150</td>\n",
       "      <td>169150</td>\n",
       "      <td>Kingston</td>\n",
       "      <td>253.000000</td>\n",
       "      <td>Kingston</td>\n",
       "      <td>2.0</td>\n",
       "      <td>3.0</td>\n",
       "      <td>3</td>\n",
       "      <td>1</td>\n",
       "      <td>333</td>\n",
       "      <td>1</td>\n",
       "    </tr>\n",
       "    <tr>\n",
       "      <th>4</th>\n",
       "      <td>000500-01012019</td>\n",
       "      <td>2019-01-01</td>\n",
       "      <td>2019</td>\n",
       "      <td>15:57:22</td>\n",
       "      <td>15</td>\n",
       "      <td>False Alarm</td>\n",
       "      <td>False alarm - Good intent</td>\n",
       "      <td>Outdoor Structure</td>\n",
       "      <td>Outdoor storage</td>\n",
       "      <td>KT9</td>\n",
       "      <td>Hook &amp; Chessington North</td>\n",
       "      <td>518850</td>\n",
       "      <td>164250</td>\n",
       "      <td>Surbiton</td>\n",
       "      <td>570.000000</td>\n",
       "      <td>Surbiton</td>\n",
       "      <td>1.0</td>\n",
       "      <td>1.0</td>\n",
       "      <td>1</td>\n",
       "      <td>1</td>\n",
       "      <td>333</td>\n",
       "      <td>1</td>\n",
       "    </tr>\n",
       "  </tbody>\n",
       "</table>\n",
       "</div>"
      ],
      "text/plain": [
       "    IncidentNumber DateOfCall  CalYear TimeOfCall  HourOfCall IncidentGroup  \\\n",
       "0  000144-01012019 2019-01-01     2019   00:46:36           0          Fire   \n",
       "1  000152-01012019 2019-01-01     2019   00:51:00           0          Fire   \n",
       "2  000304-01012019 2019-01-01     2019   03:13:01           3   False Alarm   \n",
       "3  000454-01012019 2019-01-01     2019   13:42:47          13   False Alarm   \n",
       "4  000500-01012019 2019-01-01     2019   15:57:22          15   False Alarm   \n",
       "\n",
       "         StopCodeDescription   PropertyCategory  \\\n",
       "0             Secondary Fire  Outdoor Structure   \n",
       "1             Secondary Fire  Outdoor Structure   \n",
       "2  False alarm - Good intent    Non Residential   \n",
       "3                        AFA  Other Residential   \n",
       "4  False alarm - Good intent  Outdoor Structure   \n",
       "\n",
       "                       PropertyType Postcode_district  \\\n",
       "0    Small refuse/rubbish container               KT9   \n",
       "1  Common external bin storage area               KT3   \n",
       "2          Other car park structure               KT5   \n",
       "3        Student Hall of Residence                KT1   \n",
       "4                  Outdoor storage                KT9   \n",
       "\n",
       "            IncGeo_WardName  Easting_rounded  Northing_rounded  \\\n",
       "0  Hook & Chessington North           518750            164450   \n",
       "1        New Malden Village           521150            168150   \n",
       "2    King George's & Sunray           519750            165750   \n",
       "3                  Norbiton           519150            169150   \n",
       "4  Hook & Chessington North           518850            164250   \n",
       "\n",
       "  IncidentStationGround  FirstPumpArriving_AttendanceTime  \\\n",
       "0              Surbiton                        326.598483   \n",
       "1            New Malden                        449.000000   \n",
       "2              Surbiton                        182.000000   \n",
       "3              Kingston                        253.000000   \n",
       "4              Surbiton                        570.000000   \n",
       "\n",
       "  FirstPumpArriving_DeployedFromStation  NumStationsWithPumpsAttending  \\\n",
       "0                              Surbiton                            1.0   \n",
       "1                              Richmond                            2.0   \n",
       "2                            New Malden                            2.0   \n",
       "3                              Kingston                            2.0   \n",
       "4                              Surbiton                            1.0   \n",
       "\n",
       "   NumPumpsAttending  PumpCount  PumpHoursRoundUp  Notional Cost (£)  NumCalls  \n",
       "0                1.0          1                 1                333         1  \n",
       "1                2.0          2                 1                333         1  \n",
       "2                2.0          2                 1                333         1  \n",
       "3                3.0          3                 1                333         1  \n",
       "4                1.0          1                 1                333         1  "
      ]
     },
     "execution_count": 9,
     "metadata": {},
     "output_type": "execute_result"
    }
   ],
   "source": [
    "df.head()"
   ]
  },
  {
   "cell_type": "code",
   "execution_count": 10,
   "metadata": {},
   "outputs": [
    {
     "data": {
      "text/html": [
       "<div>\n",
       "<style scoped>\n",
       "    .dataframe tbody tr th:only-of-type {\n",
       "        vertical-align: middle;\n",
       "    }\n",
       "\n",
       "    .dataframe tbody tr th {\n",
       "        vertical-align: top;\n",
       "    }\n",
       "\n",
       "    .dataframe thead th {\n",
       "        text-align: right;\n",
       "    }\n",
       "</style>\n",
       "<table border=\"1\" class=\"dataframe\">\n",
       "  <thead>\n",
       "    <tr style=\"text-align: right;\">\n",
       "      <th></th>\n",
       "      <th>IncidentNumber</th>\n",
       "      <th>SecondPumpArriving_AttendanceTime</th>\n",
       "      <th>SecondPumpArriving_DeployedFromStation</th>\n",
       "    </tr>\n",
       "  </thead>\n",
       "  <tbody>\n",
       "    <tr>\n",
       "      <th>0</th>\n",
       "      <td>000123-01012019</td>\n",
       "      <td>503</td>\n",
       "      <td>Twickenham</td>\n",
       "    </tr>\n",
       "    <tr>\n",
       "      <th>1</th>\n",
       "      <td>000152-01012019</td>\n",
       "      <td>573</td>\n",
       "      <td>Sutton</td>\n",
       "    </tr>\n",
       "    <tr>\n",
       "      <th>2</th>\n",
       "      <td>000304-01012019</td>\n",
       "      <td>378</td>\n",
       "      <td>New Malden</td>\n",
       "    </tr>\n",
       "    <tr>\n",
       "      <th>3</th>\n",
       "      <td>000454-01012019</td>\n",
       "      <td>257</td>\n",
       "      <td>Kingston</td>\n",
       "    </tr>\n",
       "    <tr>\n",
       "      <th>4</th>\n",
       "      <td>001732-04012019</td>\n",
       "      <td>404</td>\n",
       "      <td>New Malden</td>\n",
       "    </tr>\n",
       "  </tbody>\n",
       "</table>\n",
       "</div>"
      ],
      "text/plain": [
       "    IncidentNumber  SecondPumpArriving_AttendanceTime  \\\n",
       "0  000123-01012019                                503   \n",
       "1  000152-01012019                                573   \n",
       "2  000304-01012019                                378   \n",
       "3  000454-01012019                                257   \n",
       "4  001732-04012019                                404   \n",
       "\n",
       "  SecondPumpArriving_DeployedFromStation  \n",
       "0                             Twickenham  \n",
       "1                                 Sutton  \n",
       "2                             New Malden  \n",
       "3                               Kingston  \n",
       "4                             New Malden  "
      ]
     },
     "execution_count": 10,
     "metadata": {},
     "output_type": "execute_result"
    }
   ],
   "source": [
    "df2.head()"
   ]
  },
  {
   "cell_type": "code",
   "execution_count": 12,
   "metadata": {},
   "outputs": [
    {
     "name": "stdout",
     "output_type": "stream",
     "text": [
      "Wards where the second pump is usually late:\n",
      "\n",
      "Ward: OLD MALDEN, Total Cost: £728.00, Mean Delay: 17.50 seconds\n",
      "\n",
      "Ward: CHESSINGTON SOUTH & MALDEN RUSHETT, Total Cost: £728.00, Mean Delay: 57.00 seconds\n",
      "\n",
      "Ward: NORBITON, Total Cost: £1820.00, Mean Delay: 64.80 seconds\n",
      "\n",
      "Ward: Norbiton, Total Cost: £17594.00, Mean Delay: 82.69 seconds\n",
      "\n",
      "Ward: Kingston Town, Total Cost: £49775.00, Mean Delay: 87.09 seconds\n",
      "\n",
      "Ward: MOTSPUR PARK & OLD MALDEN EAST, Total Cost: £364.00, Mean Delay: 89.00 seconds\n",
      "\n",
      "Ward: Coombe Hill, Total Cost: £34048.00, Mean Delay: 91.26 seconds\n",
      "\n",
      "Ward: KINGSTON TOWN, Total Cost: £14560.00, Mean Delay: 98.22 seconds\n",
      "\n",
      "Ward: TOLWORTH, Total Cost: £2548.00, Mean Delay: 101.43 seconds\n",
      "\n",
      "Ward: Coombe Vale, Total Cost: £15855.00, Mean Delay: 102.22 seconds\n",
      "\n",
      "Ward: Chessington South & Malden Rushett, Total Cost: £7649.00, Mean Delay: 102.82 seconds\n",
      "\n",
      "Ward: Hook & Chessington North, Total Cost: £12034.00, Mean Delay: 105.51 seconds\n",
      "\n",
      "Ward: COOMBE HILL, Total Cost: £4732.00, Mean Delay: 106.69 seconds\n",
      "\n",
      "Ward: Alexandra, Total Cost: £3770.00, Mean Delay: 111.36 seconds\n",
      "\n",
      "Ward: Kingston Gate, Total Cost: £4859.00, Mean Delay: 114.21 seconds\n",
      "\n",
      "Ward: GREEN LANE & ST. JAMES, Total Cost: £2548.00, Mean Delay: 119.29 seconds\n",
      "\n",
      "Ward: CANBURY GARDENS, Total Cost: £1092.00, Mean Delay: 119.33 seconds\n",
      "\n",
      "Ward: Old Malden, Total Cost: £7233.00, Mean Delay: 121.33 seconds\n",
      "\n",
      "Ward: Motspur Park & Old Malden East, Total Cost: £8291.00, Mean Delay: 125.67 seconds\n",
      "\n",
      "Ward: Canbury Gardens, Total Cost: £7637.00, Mean Delay: 129.91 seconds\n",
      "\n",
      "Ward: Green Lane & St. James, Total Cost: £7592.00, Mean Delay: 133.73 seconds\n",
      "\n",
      "Ward: BERRYLANDS, Total Cost: £1092.00, Mean Delay: 137.67 seconds\n",
      "\n",
      "Ward: Tudor, Total Cost: £3110.00, Mean Delay: 143.33 seconds\n",
      "\n",
      "Ward: HOOK & CHESSINGTON NORTH, Total Cost: £2912.00, Mean Delay: 150.25 seconds\n",
      "\n",
      "Ward: Tolworth, Total Cost: £20349.00, Mean Delay: 154.34 seconds\n",
      "\n",
      "Ward: ST. MARK'S & SEETHING WELLS, Total Cost: £6188.00, Mean Delay: 158.00 seconds\n",
      "\n",
      "Ward: King George's & Sunray, Total Cost: £5857.00, Mean Delay: 161.53 seconds\n",
      "\n",
      "Ward: Berrylands, Total Cost: £5524.00, Mean Delay: 177.44 seconds\n",
      "\n",
      "Ward: New Malden Village, Total Cost: £26908.00, Mean Delay: 177.49 seconds\n",
      "\n",
      "Ward: St. Mark's & Seething Wells, Total Cost: £18689.00, Mean Delay: 184.70 seconds\n",
      "\n",
      "Ward: NEW MALDEN VILLAGE, Total Cost: £7280.00, Mean Delay: 187.85 seconds\n",
      "\n",
      "Ward: SURBITON HILL, Total Cost: £6916.00, Mean Delay: 191.11 seconds\n",
      "\n",
      "Ward: COOMBE VALE, Total Cost: £2184.00, Mean Delay: 200.83 seconds\n",
      "\n",
      "Ward: Surbiton Hill, Total Cost: £21554.00, Mean Delay: 225.81 seconds\n",
      "\n",
      "Ward: TUDOR, Total Cost: £364.00, Mean Delay: 322.00 seconds\n",
      "\n",
      "Ward: ALEXANDRA, Total Cost: £364.00, Mean Delay: 352.00 seconds\n",
      "\n",
      "Ward: KINGSTON GATE, Total Cost: £728.00, Mean Delay: 371.50 seconds\n",
      "\n"
     ]
    }
   ],
   "source": [
    "\n",
    "# Merge the two dataframes on the incident number\n",
    "merged_df = pd.merge(df, df2, on='IncidentNumber', how='left')\n",
    "\n",
    "# Filter the dataframe to only incidents with more than one pump attending\n",
    "merged_df = merged_df[merged_df['NumStationsWithPumpsAttending'] > 1]\n",
    "\n",
    "# Calculate the difference in seconds between the first and second pump arrival times\n",
    "merged_df['SecondPumpArrivalDelay'] = (merged_df['SecondPumpArriving_AttendanceTime'] - merged_df['FirstPumpArriving_AttendanceTime']).fillna(0)\n",
    "\n",
    "# Group the dataframe by ward and calculate the mean cost and mean delay for each ward\n",
    "grouped = merged_df.groupby('IncGeo_WardName').agg({'Notional Cost (£)': 'sum', 'SecondPumpArrivalDelay': 'mean'})\n",
    "\n",
    "# Filter the groups to only those with a mean delay greater than 0 seconds\n",
    "grouped = grouped[grouped['SecondPumpArrivalDelay'] > 0]\n",
    "\n",
    "# Sort the groups by mean delay in ascending order\n",
    "grouped = grouped.sort_values('SecondPumpArrivalDelay', ascending=True)\n",
    "\n",
    "# Print the wards where the second pump is usually late along with the total cost spent on that ward\n",
    "print(\"Wards where the second pump is usually late:\\n\")\n",
    "for index, row in grouped.iterrows():\n",
    "    print(f\"Ward: {index}, Total Cost: £{row['Notional Cost (£)']:.2f}, Mean Delay: {row['SecondPumpArrivalDelay']:.2f} seconds\\n\")\n"
   ]
  },
  {
   "cell_type": "code",
   "execution_count": 13,
   "metadata": {},
   "outputs": [
    {
     "data": {
      "image/png": "[encoded data removed]",
      "text/plain": [
       "<Figure size 432x288 with 1 Axes>"
      ]
     },
     "metadata": {
      "needs_background": "light"
     },
     "output_type": "display_data"
    }
   ],
   "source": [
    "plt.bar(grouped.index, grouped['Notional Cost (£)'])\n",
    "plt.xticks(rotation=90)\n",
    "plt.xlabel('Ward')\n",
    "plt.ylabel('Total Cost (£)')\n",
    "plt.title('Total Cost by Ward where the Second Pump is Usually Late')\n",
    "plt.show()"
   ]
  },
  {
   "cell_type": "code",
   "execution_count": 14,
   "metadata": {},
   "outputs": [
    {
     "data": {
      "image/png": "[encoded data removed]",
      "text/plain": [
       "<Figure size 432x288 with 1 Axes>"
      ]
     },
     "metadata": {
      "needs_background": "light"
     },
     "output_type": "display_data"
    }
   ],
   "source": [
    "# Plot the results as a scatter plot\n",
    "plt.scatter(grouped['SecondPumpArrivalDelay'], grouped['Notional Cost (£)'], s=100*grouped['Notional Cost (£)']/grouped['Notional Cost (£)'].max(), alpha=0.5)\n",
    "plt.xlabel('Mean Delay Between First and Second Pump Arrival (Seconds)')\n",
    "plt.ylabel('Total Cost (£)')\n",
    "plt.title('Total Cost by Ward where the Second Pump is Usually Late')\n",
    "plt.show()"
   ]
  },
  {
   "cell_type": "code",
   "execution_count": 15,
   "metadata": {},
   "outputs": [
    {
     "ename": "NameError",
     "evalue": "name 'StandardScaler' is not defined",
     "output_type": "error",
     "traceback": [
      "\u001b[1;31m---------------------------------------------------------------------------\u001b[0m",
      "\u001b[1;31mNameError\u001b[0m                                 Traceback (most recent call last)",
      "\u001b[1;32m<ipython-input-15-2baf7b7fdae9>\u001b[0m in \u001b[0;36m<module>\u001b[1;34m\u001b[0m\n\u001b[0;32m     15\u001b[0m \u001b[1;33m\u001b[0m\u001b[0m\n\u001b[0;32m     16\u001b[0m \u001b[1;31m# Scale the data\u001b[0m\u001b[1;33m\u001b[0m\u001b[1;33m\u001b[0m\u001b[1;33m\u001b[0m\u001b[0m\n\u001b[1;32m---> 17\u001b[1;33m \u001b[0mscaler\u001b[0m \u001b[1;33m=\u001b[0m \u001b[0mStandardScaler\u001b[0m\u001b[1;33m(\u001b[0m\u001b[1;33m)\u001b[0m\u001b[1;33m\u001b[0m\u001b[1;33m\u001b[0m\u001b[0m\n\u001b[0m\u001b[0;32m     18\u001b[0m \u001b[0mscaled_data\u001b[0m \u001b[1;33m=\u001b[0m \u001b[0mscaler\u001b[0m\u001b[1;33m.\u001b[0m\u001b[0mfit_transform\u001b[0m\u001b[1;33m(\u001b[0m\u001b[0mgrouped\u001b[0m\u001b[1;33m)\u001b[0m\u001b[1;33m\u001b[0m\u001b[1;33m\u001b[0m\u001b[0m\n\u001b[0;32m     19\u001b[0m \u001b[1;33m\u001b[0m\u001b[0m\n",
      "\u001b[1;31mNameError\u001b[0m: name 'StandardScaler' is not defined"
     ]
    }
   ],
   "source": []
  },
  {
   "cell_type": "code",
   "execution_count": 16,
   "metadata": {},
   "outputs": [],
   "source": [
    "from sklearn.preprocessing import StandardScaler\n",
    "from sklearn.decomposition import PCA\n",
    "from sklearn.cluster import KMeans\n"
   ]
  },
  {
   "cell_type": "code",
   "execution_count": 17,
   "metadata": {},
   "outputs": [
    {
     "data": {
      "image/png": "[encoded data removed]",
      "text/plain": [
       "<Figure size 432x288 with 1 Axes>"
      ]
     },
     "metadata": {
      "needs_background": "light"
     },
     "output_type": "display_data"
    }
   ],
   "source": [
    "\n",
    "\n",
    "# Merge the two dataframes on the incident number\n",
    "merged_df = pd.merge(df, df2, on='IncidentNumber', how='left')\n",
    "\n",
    "# Filter the dataframe to only incidents with more than one pump attending\n",
    "merged_df = merged_df[merged_df['NumStationsWithPumpsAttending'] > 1]\n",
    "\n",
    "# Calculate the difference in seconds between the first and second pump arrival times\n",
    "merged_df['SecondPumpArrivalDelay'] = (merged_df['SecondPumpArriving_AttendanceTime'] - merged_df['FirstPumpArriving_AttendanceTime']).fillna(0)\n",
    "\n",
    "# Group the dataframe by ward and calculate the mean cost and mean delay for each ward\n",
    "grouped = merged_df.groupby('IncGeo_WardName').agg({'Notional Cost (£)': 'sum', 'SecondPumpArrivalDelay': 'mean'})\n",
    "\n",
    "# Filter the groups to only those with a mean delay greater than 0 seconds\n",
    "grouped = grouped[grouped['SecondPumpArrivalDelay'] > 0]\n",
    "\n",
    "# Scale the data\n",
    "scaler = StandardScaler()\n",
    "scaled_data = scaler.fit_transform(grouped)\n",
    "\n",
    "# Reduce the dimensionality of the data to two components using PCA\n",
    "pca = PCA(n_components=2)\n",
    "pca_data = pca.fit_transform(scaled_data)\n",
    "\n",
    "# Perform clustering using KMeans with 4 clusters\n",
    "kmeans = KMeans(n_clusters=4)\n",
    "kmeans.fit(scaled_data)\n",
    "\n",
    "# Add the cluster labels to the dataframe\n",
    "grouped['Cluster'] = kmeans.labels_\n",
    "\n",
    "# Plot the results\n",
    "plt.scatter(pca_data[:, 0], pca_data[:, 1], c=grouped['Cluster'], cmap='viridis')\n",
    "plt.xlabel('PCA Component 1')\n",
    "plt.ylabel('PCA Component 2')\n",
    "plt.title('Clustering of Wards based on Total Cost and Second Pump Arrival Delay')\n",
    "plt.show()\n"
   ]
  },
  {
   "cell_type": "raw",
   "metadata": {},
   "source": [
    "In the above code, PCA is used to reduce the dimensionality of the data from the original number of features (in this case, 'Notional Cost (£)' and 'SecondPumpArrivalDelay') to two principal components, while retaining as much of the original information as possible. This is done to make the data easier to visualize and to reduce the potential impact of the 'curse of dimensionality', where adding additional features to the data can increase the complexity of the model and make it more difficult to interpret."
   ]
  },
  {
   "cell_type": "raw",
   "metadata": {},
   "source": [
    "# It's not immediately clear whether there is a clear pattern between the mean delay and the total cost in this output. While some of the wards with higher mean delays do have higher total costs (such as Kingston Town, Coombe Hill, and New Malden Village), others do not show this relationship (such as Old Malden and Alexandra)."
   ]
  },
  {
   "cell_type": "code",
   "execution_count": null,
   "metadata": {},
   "outputs": [],
   "source": []
  }
 ],
 "metadata": {
  "kernelspec": {
   "display_name": "Python 3",
   "language": "python",
   "name": "python3"
  },
  "language_info": {
   "codemirror_mode": {
    "name": "ipython",
    "version": 3
   },
   "file_extension": ".py",
   "mimetype": "text/x-python",
   "name": "python",
   "nbconvert_exporter": "python",
   "pygments_lexer": "ipython3",
   "version": "3.7.7"
  }
 },
 "nbformat": 4,
 "nbformat_minor": 4
}
